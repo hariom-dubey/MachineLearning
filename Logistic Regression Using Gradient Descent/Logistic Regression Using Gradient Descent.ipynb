{
 "cells": [
  {
   "cell_type": "code",
   "execution_count": 1,
   "metadata": {},
   "outputs": [],
   "source": [
    "import pandas as pd\n",
    "import numpy as np\n",
    "import matplotlib.pyplot as plt\n",
    "from sklearn.model_selection import train_test_split\n",
    "from sklearn.preprocessing import StandardScaler\n",
    "import math\n",
    "from sklearn.metrics import confusion_matrix, accuracy_score"
   ]
  },
  {
   "cell_type": "code",
   "execution_count": 2,
   "metadata": {},
   "outputs": [],
   "source": [
    "#loading data\n",
    "data = pd.read_csv('LOR.csv')\n",
    "x = data.iloc[:, 2:4].values\n",
    "y = data.iloc[:, 4].values"
   ]
  },
  {
   "cell_type": "code",
   "execution_count": 3,
   "metadata": {},
   "outputs": [],
   "source": [
    "#splitting data into train & test\n",
    "train_x, test_x, train_y, test_y = train_test_split(x, y, test_size = 0.2, random_state = 0)"
   ]
  },
  {
   "cell_type": "code",
   "execution_count": 4,
   "metadata": {},
   "outputs": [],
   "source": [
    "#applying scaling to the data to make calculations easier\n",
    "scaler = StandardScaler()\n",
    "train_x = scaler.fit_transform(train_x)\n",
    "test_x = scaler.fit_transform(test_x)"
   ]
  },
  {
   "cell_type": "code",
   "execution_count": 5,
   "metadata": {},
   "outputs": [],
   "source": [
    "def sigmoid(val):\n",
    "    return math.exp(val)/(math.exp(val) + 1)\n",
    "\n",
    "def sigmoid_dr(val):\n",
    "    return sigmoid(val)*(1 - sigmoid(val))\n",
    "\n",
    "def cal_loss(y_pred, y):\n",
    "    loss = sum((y - y_pred) ** 2) / n\n",
    "    return loss"
   ]
  },
  {
   "cell_type": "code",
   "execution_count": 6,
   "metadata": {},
   "outputs": [],
   "source": [
    "#logisticRegression algorithm code\n",
    "\n",
    "#initializing slopes, learning rate & intercept\n",
    "slope1 = 1\n",
    "slope2 = 1\n",
    "intercept = 1\n",
    "learning_rate = 0.1\n",
    "\n",
    "n = len(train_x)\n",
    "\n",
    "old_loss = 0\n",
    "\n",
    "while True:\n",
    "    b_sig = slope1*train_x[:, 0] + slope2*train_x[:, 1] + intercept\n",
    "    \n",
    "    y_pred = np.array([sigmoid(val) for val in b_sig])\n",
    "    \n",
    "    #calculating derivatives of sigmoid values\n",
    "    dr_sigmoid_val = np.array([sigmoid_dr(val) for val in b_sig])\n",
    "    \n",
    "    #calculate loss\n",
    "    loss = cal_loss(y_pred, train_y)\n",
    "    \n",
    "    #if loss does not changing or changing very minute then break the loop\n",
    "    if old_loss == loss:\n",
    "        break\n",
    "    if abs(old_loss - loss) < 0.0000001:\n",
    "        break\n",
    "    \n",
    "    old_loss = loss\n",
    "    \n",
    "    com = y_pred - train_y\n",
    "    #calculating derivative of loss w.r.t loss & intercept\n",
    "    d_slope1 = (2/n) * sum(com * dr_sigmoid_val * train_x[:, 0])\n",
    "    d_slope2 = (2/n) * sum(com * dr_sigmoid_val * train_x[:, 1])\n",
    "    d_intercept = (2/n) * sum(com * dr_sigmoid_val)\n",
    "    \n",
    "    #updating slopes & intercept\n",
    "    slope1 = slope1 - learning_rate * d_slope1\n",
    "    slope2 = slope2 - learning_rate * d_slope2\n",
    "    intercept = intercept - learning_rate * d_intercept"
   ]
  },
  {
   "cell_type": "code",
   "execution_count": 7,
   "metadata": {},
   "outputs": [
    {
     "name": "stdout",
     "output_type": "stream",
     "text": [
      "[[175  24]\n",
      " [ 28  93]] 0.8375\n",
      "\n",
      " 2.6202500496516046 1.4086280657190846 -0.7838181010042542\n"
     ]
    }
   ],
   "source": [
    "#model predicted output\n",
    "y_pred_own = [0 if val < 0.5 else 1 for val in y_pred]\n",
    "\n",
    "#checking our accuracy of prediction with new data\n",
    "mat = confusion_matrix(train_y, y_pred_own)\n",
    "score = accuracy_score(train_y, y_pred_own)\n",
    "\n",
    "print(mat, score)\n",
    "print('\\n',slope1, slope2, intercept)"
   ]
  },
  {
   "cell_type": "code",
   "execution_count": 8,
   "metadata": {},
   "outputs": [
    {
     "name": "stdout",
     "output_type": "stream",
     "text": [
      "0.821875\n",
      "\n",
      " [[2.00316198 1.08088613]] [-0.87076381]\n"
     ]
    }
   ],
   "source": [
    "#verifying the got output from model to sklearn LogisticRegression model\n",
    "from sklearn.linear_model import LogisticRegression\n",
    "log_reg = LogisticRegression()\n",
    "log_reg.fit(train_x, train_y)\n",
    "\n",
    "print(log_reg.score(train_x, train_y))\n",
    "\n",
    "print('\\n', log_reg.coef_, log_reg.intercept_)"
   ]
  },
  {
   "cell_type": "code",
   "execution_count": 9,
   "metadata": {},
   "outputs": [],
   "source": [
    "#got the same accuracy as sklearn model got"
   ]
  }
 ],
 "metadata": {
  "kernelspec": {
   "display_name": "Python 3",
   "language": "python",
   "name": "python3"
  },
  "language_info": {
   "codemirror_mode": {
    "name": "ipython",
    "version": 3
   },
   "file_extension": ".py",
   "mimetype": "text/x-python",
   "name": "python",
   "nbconvert_exporter": "python",
   "pygments_lexer": "ipython3",
   "version": "3.8.5"
  }
 },
 "nbformat": 4,
 "nbformat_minor": 4
}
