{
 "cells": [
  {
   "cell_type": "code",
   "execution_count": 1,
   "metadata": {},
   "outputs": [],
   "source": [
    "import numpy as np\n",
    "import pandas as pd\n",
    "import matplotlib.pyplot as plt\n",
    "from sklearn.preprocessing import StandardScaler\n",
    "from sklearn.model_selection import train_test_split\n",
    "from math import sqrt\n",
    "from sklearn.metrics import confusion_matrix, accuracy_score"
   ]
  },
  {
   "cell_type": "code",
   "execution_count": 2,
   "metadata": {},
   "outputs": [],
   "source": [
    "#loading data\n",
    "df = pd.read_csv('LOR.csv', usecols = ['Age', 'EstimatedSalary', 'Purchased'])\n",
    "x = df.iloc[:,:2].values\n",
    "y = df.iloc[:,2].values"
   ]
  },
  {
   "cell_type": "code",
   "execution_count": 3,
   "metadata": {},
   "outputs": [],
   "source": [
    "# feature scaling to make calculation easier\n",
    "\n",
    "scaler = StandardScaler()\n",
    "x = scaler.fit_transform(x)"
   ]
  },
  {
   "cell_type": "code",
   "execution_count": 4,
   "metadata": {},
   "outputs": [],
   "source": [
    "#splitting data into train & test\n",
    "train_x, test_x, train_y, test_y = train_test_split(x, y, test_size = 0.25, random_state = 0)\n",
    "\n",
    "# data processing to feed into model\n",
    "train_y = train_y.reshape((-1, 1))\n",
    "\n",
    "dataset_train = np.append(train_x, train_y, axis = 1)"
   ]
  },
  {
   "cell_type": "code",
   "execution_count": 5,
   "metadata": {},
   "outputs": [
    {
     "name": "stdout",
     "output_type": "stream",
     "text": [
      "[[64  4]\n",
      " [ 3 29]] 0.93\n"
     ]
    }
   ],
   "source": [
    "#calculates distance between two dataset rows\n",
    "def get_distance(default_row, dataset_row):\n",
    "    distance = sqrt(sum((default_row - dataset_row[:-1]) ** 2))\n",
    "    return (distance, dataset_row[-1])\n",
    "\n",
    "# predicts the belonging category for the dataset provided row\n",
    "def get_belonging_category(default_row, dataset, neighbors_number):\n",
    "    distances = []\n",
    "    for row in dataset:\n",
    "        distances.append(get_distance(default_row, row))\n",
    "    distances.sort(key = lambda x: x[0])\n",
    "    near_categories = np.array(distances[:neighbors_number])\n",
    "    categories, categories_count = np.unique(near_categories[:, 1], return_counts = True)\n",
    "    index_of_max = np.argmax(categories_count)\n",
    "    belonging_category = categories[index_of_max]\n",
    "    return belonging_category\n",
    "\n",
    "#predicting y values for test data\n",
    "y_pred_algo = [get_belonging_category(row, dataset_train, 9) for row in test_x]\n",
    "\n",
    "#calculating our accuracy with test_y data\n",
    "mat = confusion_matrix(test_y, y_pred_algo)\n",
    "score = accuracy_score(test_y, y_pred_algo)\n",
    "print(mat, score)"
   ]
  }
 ],
 "metadata": {
  "kernelspec": {
   "display_name": "Python 3",
   "language": "python",
   "name": "python3"
  },
  "language_info": {
   "codemirror_mode": {
    "name": "ipython",
    "version": 3
   },
   "file_extension": ".py",
   "mimetype": "text/x-python",
   "name": "python",
   "nbconvert_exporter": "python",
   "pygments_lexer": "ipython3",
   "version": "3.8.5"
  }
 },
 "nbformat": 4,
 "nbformat_minor": 4
}
